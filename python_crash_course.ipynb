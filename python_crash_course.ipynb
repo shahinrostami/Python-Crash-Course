{
 "cells": [
  {
   "cell_type": "markdown",
   "metadata": {},
   "source": [
    "# Python crash-course\n",
    "## Dr. Shahin Rostami"
   ]
  },
  {
   "cell_type": "markdown",
   "metadata": {},
   "source": [
    "This crash-course makes the assumption that you already have some programming experience, but perhaps none with Python."
   ]
  },
  {
   "cell_type": "markdown",
   "metadata": {},
   "source": [
    "## Contents\n",
    "- [Comments](#Comments)\n",
    "- [Printing to terminal](#Printing-to-terminal)\n",
    "- [Variables and assignment](#Variables-and-assignment)\n",
    "- [Terminal input](#Terminal-input)\n",
    "- [Mathematical operations](#Mathematical-operations)\n",
    "- [Boolean operations](#Boolean-operations)\n",
    "- [Relational operations](#Relational-operations)\n",
    "- [Conditional statements](#Conditional-statements)\n",
    "- [Data structures](#Data-structures)\n",
    "- [Loops](#Loops)\n",
    "- [Functions](#Functions)\n",
    "- [Packages](#Packages)"
   ]
  },
  {
   "cell_type": "markdown",
   "metadata": {},
   "source": [
    "### Comments"
   ]
  },
  {
   "cell_type": "code",
   "execution_count": 1,
   "metadata": {
    "collapsed": true
   },
   "outputs": [],
   "source": [
    "# You can write a comment using an octothorpe or 'hash' symbol"
   ]
  },
  {
   "cell_type": "markdown",
   "metadata": {},
   "source": [
    "### Printing to terminal"
   ]
  },
  {
   "cell_type": "code",
   "execution_count": 2,
   "metadata": {
    "collapsed": false
   },
   "outputs": [
    {
     "name": "stdout",
     "output_type": "stream",
     "text": [
      "Hello World!\n",
      "Hello World!\n"
     ]
    }
   ],
   "source": [
    "print \"Hello World!\" \n",
    "\n",
    "print(\"Hello World!\") # in Python 2.7, you can use both of these approaches to print"
   ]
  },
  {
   "cell_type": "markdown",
   "metadata": {},
   "source": [
    "### Variables and assignment"
   ]
  },
  {
   "cell_type": "code",
   "execution_count": 3,
   "metadata": {
    "collapsed": false
   },
   "outputs": [],
   "source": [
    "my_number = 5\n",
    "my_float = 0.2\n",
    "my_string = \"Hello\"\n",
    "also_my_string = 'Hello'"
   ]
  },
  {
   "cell_type": "code",
   "execution_count": 4,
   "metadata": {
    "collapsed": false
   },
   "outputs": [
    {
     "name": "stdout",
     "output_type": "stream",
     "text": [
      "5 is of <type 'int'>\n",
      "0.2 is of <type 'float'>\n",
      "Hello is of <type 'str'>\n",
      "Hello is of <type 'str'>\n"
     ]
    }
   ],
   "source": [
    "print \"{} is of {}\".format(my_number, type(my_number))\n",
    "print \"{} is of {}\".format(my_float, type(my_float))\n",
    "print \"{} is of {}\".format(my_string, type(my_string))\n",
    "print \"{} is of {}\".format(also_my_string, type(also_my_string))"
   ]
  },
  {
   "cell_type": "markdown",
   "metadata": {},
   "source": [
    "### Terminal input"
   ]
  },
  {
   "cell_type": "code",
   "execution_count": 5,
   "metadata": {
    "collapsed": false
   },
   "outputs": [
    {
     "name": "stdout",
     "output_type": "stream",
     "text": [
      "please enter a word: 5\n",
      "result: 5\n"
     ]
    }
   ],
   "source": [
    "my_result = raw_input('please enter a word: ')\n",
    "print \"result: {}\".format(my_result)"
   ]
  },
  {
   "cell_type": "markdown",
   "metadata": {},
   "source": [
    "### Mathematical operations"
   ]
  },
  {
   "cell_type": "code",
   "execution_count": 6,
   "metadata": {
    "collapsed": false
   },
   "outputs": [
    {
     "name": "stdout",
     "output_type": "stream",
     "text": [
      "result: 7\n"
     ]
    }
   ],
   "source": [
    "my_result = 5 + 2 # add\n",
    "print \"result: {}\".format(my_result)"
   ]
  },
  {
   "cell_type": "code",
   "execution_count": 7,
   "metadata": {
    "collapsed": false
   },
   "outputs": [
    {
     "name": "stdout",
     "output_type": "stream",
     "text": [
      "result: 3\n"
     ]
    }
   ],
   "source": [
    "my_result = 5 - 2 # substract\n",
    "print \"result: {}\".format(my_result)"
   ]
  },
  {
   "cell_type": "code",
   "execution_count": 8,
   "metadata": {
    "collapsed": false
   },
   "outputs": [
    {
     "name": "stdout",
     "output_type": "stream",
     "text": [
      "result: 10\n"
     ]
    }
   ],
   "source": [
    "my_result = 5 * 2 # multiply\n",
    "print \"result: {}\".format(my_result)"
   ]
  },
  {
   "cell_type": "code",
   "execution_count": 9,
   "metadata": {
    "collapsed": false
   },
   "outputs": [
    {
     "name": "stdout",
     "output_type": "stream",
     "text": [
      "result: 2\n"
     ]
    }
   ],
   "source": [
    "my_result = 5 / 2 # divide\n",
    "print \"result: {}\".format(my_result)"
   ]
  },
  {
   "cell_type": "markdown",
   "metadata": {},
   "source": [
    "**Expecting 2.5?** Understandable... but if both operands are of type int, Python will assume you want an int as a result. You will need at least one operand of type float for the operation to return a float."
   ]
  },
  {
   "cell_type": "code",
   "execution_count": 10,
   "metadata": {
    "collapsed": false
   },
   "outputs": [
    {
     "name": "stdout",
     "output_type": "stream",
     "text": [
      "result: 2.5\n",
      "result: 2.5\n",
      "result: 2.5\n"
     ]
    }
   ],
   "source": [
    "my_result = 5.0 / 2\n",
    "print \"result: {}\".format(my_result)\n",
    "\n",
    "my_result = 5 / 2.0\n",
    "print \"result: {}\".format(my_result)\n",
    "\n",
    "my_result = 5.0 / 2.0\n",
    "print \"result: {}\".format(my_result)"
   ]
  },
  {
   "cell_type": "code",
   "execution_count": 11,
   "metadata": {
    "collapsed": false
   },
   "outputs": [
    {
     "name": "stdout",
     "output_type": "stream",
     "text": [
      "result: 1\n"
     ]
    }
   ],
   "source": [
    "my_result = 5 % 2 # modulo\n",
    "print \"result: {}\".format(my_result)"
   ]
  },
  {
   "cell_type": "code",
   "execution_count": 12,
   "metadata": {
    "collapsed": false
   },
   "outputs": [
    {
     "name": "stdout",
     "output_type": "stream",
     "text": [
      "result: 3125\n"
     ]
    }
   ],
   "source": [
    "my_result = 5 ** 5 # exponent\n",
    "print \"result: {}\".format(my_result)"
   ]
  },
  {
   "cell_type": "markdown",
   "metadata": {},
   "source": [
    "### Boolean operations"
   ]
  },
  {
   "cell_type": "code",
   "execution_count": 13,
   "metadata": {
    "collapsed": false
   },
   "outputs": [
    {
     "name": "stdout",
     "output_type": "stream",
     "text": [
      "result: True\n",
      "result: False\n"
     ]
    }
   ],
   "source": [
    "my_result = True\n",
    "print \"result: {}\".format(my_result)\n",
    "\n",
    "my_result = False\n",
    "print \"result: {}\".format(my_result)"
   ]
  },
  {
   "cell_type": "code",
   "execution_count": 14,
   "metadata": {
    "collapsed": false
   },
   "outputs": [
    {
     "name": "stdout",
     "output_type": "stream",
     "text": [
      "result: False\n",
      "result: False\n",
      "result: False\n",
      "result: True\n"
     ]
    }
   ],
   "source": [
    "# and\n",
    "my_result = False and False\n",
    "print \"result: {}\".format(my_result)\n",
    "\n",
    "my_result = False and True\n",
    "print \"result: {}\".format(my_result)\n",
    "\n",
    "my_result = True and False\n",
    "print \"result: {}\".format(my_result)\n",
    "\n",
    "my_result = True and True\n",
    "print \"result: {}\".format(my_result)"
   ]
  },
  {
   "cell_type": "code",
   "execution_count": 15,
   "metadata": {
    "collapsed": false
   },
   "outputs": [
    {
     "name": "stdout",
     "output_type": "stream",
     "text": [
      "result: False\n",
      "result: True\n",
      "result: True\n",
      "result: True\n"
     ]
    }
   ],
   "source": [
    "# or\n",
    "my_result = False or False\n",
    "print \"result: {}\".format(my_result)\n",
    "\n",
    "my_result = False or True\n",
    "print \"result: {}\".format(my_result)\n",
    "\n",
    "my_result = True or False\n",
    "print \"result: {}\".format(my_result)\n",
    "\n",
    "my_result = True or True\n",
    "print \"result: {}\".format(my_result)"
   ]
  },
  {
   "cell_type": "code",
   "execution_count": 16,
   "metadata": {
    "collapsed": false
   },
   "outputs": [
    {
     "name": "stdout",
     "output_type": "stream",
     "text": [
      "result: False\n",
      "result: True\n"
     ]
    }
   ],
   "source": [
    "# not\n",
    "my_result = not True\n",
    "print \"result: {}\".format(my_result)\n",
    "\n",
    "my_result = not False\n",
    "print \"result: {}\".format(my_result)"
   ]
  },
  {
   "cell_type": "markdown",
   "metadata": {},
   "source": [
    "### Relational operations"
   ]
  },
  {
   "cell_type": "code",
   "execution_count": 17,
   "metadata": {
    "collapsed": false
   },
   "outputs": [
    {
     "name": "stdout",
     "output_type": "stream",
     "text": [
      "result: True\n",
      "result: True\n",
      "result: False\n",
      "result: False\n",
      "result: False\n"
     ]
    }
   ],
   "source": [
    "my_result = 5 > 2 # greater than\n",
    "print \"result: {}\".format(my_result)\n",
    "\n",
    "my_result = 5 >= 2 # greater than or equal to\n",
    "print \"result: {}\".format(my_result)\n",
    "\n",
    "my_result = 5 < 2 # less than\n",
    "print \"result: {}\".format(my_result)\n",
    "\n",
    "my_result = 5 <= 2 # less than or equal to\n",
    "print \"result: {}\".format(my_result)\n",
    "\n",
    "my_result = 5 == 2 # equal to\n",
    "print \"result: {}\".format(my_result)"
   ]
  },
  {
   "cell_type": "markdown",
   "metadata": {},
   "source": [
    "### Conditional statements"
   ]
  },
  {
   "cell_type": "code",
   "execution_count": 18,
   "metadata": {
    "collapsed": false
   },
   "outputs": [
    {
     "name": "stdout",
     "output_type": "stream",
     "text": [
      "you can drink on your birthday!\n"
     ]
    }
   ],
   "source": [
    "age = 17\n",
    "uk_drinking_age = 18\n",
    "\n",
    "if(age >= uk_drinking_age): # IF\n",
    "    print \"you can drinking!\"\n",
    "elif(age == 17):            # ELSE IF\n",
    "    print \"you can drink on your birthday!\"\n",
    "else:                       # ELSE\n",
    "    print \"you can't drink!\""
   ]
  },
  {
   "cell_type": "markdown",
   "metadata": {},
   "source": [
    "### Data structures"
   ]
  },
  {
   "cell_type": "code",
   "execution_count": 19,
   "metadata": {
    "collapsed": false
   },
   "outputs": [
    {
     "name": "stdout",
     "output_type": "stream",
     "text": [
      "['Carrots', 'Onions', 'Chicken', 'Coconuts']\n",
      "Carrots\n",
      "['Carrots', 'Onions', 'Chicken', 'Coconuts', 'Ice cream']\n"
     ]
    }
   ],
   "source": [
    "# LIST\n",
    "shopping_list = [\"Carrots\", \"Onions\", \"Chicken\", \"Coconuts\"]\n",
    "print shopping_list\n",
    "print shopping_list [0] # Python is zero-indexed\n",
    "\n",
    "shopping_list.append(\"Ice cream\")\n",
    "print shopping_list"
   ]
  },
  {
   "cell_type": "code",
   "execution_count": 20,
   "metadata": {
    "collapsed": false
   },
   "outputs": [
    {
     "name": "stdout",
     "output_type": "stream",
     "text": [
      "{'Coconuts': 1, 'Chicken': 1, 'Carrots': 5, 'Onions': 2}\n",
      "Careful - dictionaries are not ordered.\n",
      "5\n"
     ]
    }
   ],
   "source": [
    "# DICTIONARY\n",
    "shopping_list = {\"Carrots\": 5, \"Onions\": 2, \"Chicken\": 1, \"Coconuts\": 1}\n",
    "print shopping_list\n",
    "print \"Careful - dictionaries are not ordered.\"\n",
    "print shopping_list['Carrots']"
   ]
  },
  {
   "cell_type": "code",
   "execution_count": 21,
   "metadata": {
    "collapsed": false
   },
   "outputs": [
    {
     "name": "stdout",
     "output_type": "stream",
     "text": [
      "(5, 6)\n",
      "(5, 'hello', 5.5, True, 2)\n"
     ]
    }
   ],
   "source": [
    "# TUPLE\n",
    "my_result = (5, 6)\n",
    "print my_result\n",
    "\n",
    "\n",
    "my_result = (5, \"hello\", 5.5, True, 2)\n",
    "print my_result"
   ]
  },
  {
   "cell_type": "markdown",
   "metadata": {},
   "source": [
    "### Loops"
   ]
  },
  {
   "cell_type": "code",
   "execution_count": 22,
   "metadata": {
    "collapsed": false
   },
   "outputs": [
    {
     "name": "stdout",
     "output_type": "stream",
     "text": [
      "Carrots\n",
      "Onions\n",
      "Chicken\n",
      "Coconuts\n"
     ]
    }
   ],
   "source": [
    "# FOR\n",
    "\n",
    "shopping_list = [\"Carrots\", \"Onions\", \"Chicken\", \"Coconuts\"]\n",
    "\n",
    "for item in shopping_list:\n",
    "    print item"
   ]
  },
  {
   "cell_type": "code",
   "execution_count": 23,
   "metadata": {
    "collapsed": false
   },
   "outputs": [
    {
     "name": "stdout",
     "output_type": "stream",
     "text": [
      "0\n",
      "1\n",
      "2\n",
      "3\n",
      "4\n",
      "5\n",
      "6\n",
      "7\n",
      "8\n",
      "9\n"
     ]
    }
   ],
   "source": [
    "# FOR\n",
    "\n",
    "for index in range(0,10):\n",
    "    print index"
   ]
  },
  {
   "cell_type": "code",
   "execution_count": 24,
   "metadata": {
    "collapsed": false
   },
   "outputs": [
    {
     "name": "stdout",
     "output_type": "stream",
     "text": [
      "0\n",
      "1\n",
      "2\n",
      "3\n",
      "4\n",
      "5\n",
      "6\n",
      "7\n",
      "8\n",
      "9\n",
      "10\n",
      "11\n",
      "12\n",
      "13\n",
      "14\n",
      "15\n",
      "16\n",
      "17\n",
      "number was no longer below 18!\n"
     ]
    }
   ],
   "source": [
    "# WHILE\n",
    "number = 0\n",
    "\n",
    "while(number < 18):\n",
    "    print number\n",
    "    number += 1\n",
    "    \n",
    "print \"number was no longer below 18!\""
   ]
  },
  {
   "cell_type": "markdown",
   "metadata": {},
   "source": [
    "### Functions"
   ]
  },
  {
   "cell_type": "code",
   "execution_count": 25,
   "metadata": {
    "collapsed": false
   },
   "outputs": [
    {
     "name": "stdout",
     "output_type": "stream",
     "text": [
      "No parameters passed in\n"
     ]
    }
   ],
   "source": [
    "def my_function(): # create a function\n",
    "    print \"No parameters passed in\"\n",
    "    \n",
    "my_function()      # call a function"
   ]
  },
  {
   "cell_type": "code",
   "execution_count": 26,
   "metadata": {
    "collapsed": false
   },
   "outputs": [
    {
     "name": "stdout",
     "output_type": "stream",
     "text": [
      "Parameter passed in: Derek\n"
     ]
    }
   ],
   "source": [
    "def another_function(name):\n",
    "    print \"Parameter passed in: {}\".format(name)\n",
    "    \n",
    "another_function(\"Derek\")"
   ]
  },
  {
   "cell_type": "code",
   "execution_count": 27,
   "metadata": {
    "collapsed": false
   },
   "outputs": [
    {
     "name": "stdout",
     "output_type": "stream",
     "text": [
      "True\n"
     ]
    }
   ],
   "source": [
    "def greater_than(left_operand, right_operand): \n",
    "    my_result = left_operand > right_operand\n",
    "    return my_result # returning a value from the function\n",
    "\n",
    "print greater_than(5, 2) # printing the value returned from the function"
   ]
  },
  {
   "cell_type": "markdown",
   "metadata": {},
   "source": [
    "### Packages"
   ]
  },
  {
   "cell_type": "code",
   "execution_count": 28,
   "metadata": {
    "collapsed": false
   },
   "outputs": [
    {
     "name": "stdout",
     "output_type": "stream",
     "text": [
      "2017-07-27 12:14:08.896800\n"
     ]
    }
   ],
   "source": [
    "import datetime\n",
    "\n",
    "print datetime.datetime.now()"
   ]
  }
 ],
 "metadata": {
  "kernelspec": {
   "display_name": "Python 2",
   "language": "python",
   "name": "python2"
  },
  "language_info": {
   "codemirror_mode": {
    "name": "ipython",
    "version": 2
   },
   "file_extension": ".py",
   "mimetype": "text/x-python",
   "name": "python",
   "nbconvert_exporter": "python",
   "pygments_lexer": "ipython2",
   "version": "2.7.12"
  }
 },
 "nbformat": 4,
 "nbformat_minor": 2
}
